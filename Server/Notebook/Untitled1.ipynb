{
 "cells": [
  {
   "cell_type": "code",
   "execution_count": null,
   "id": "47dff64d",
   "metadata": {},
   "outputs": [],
   "source": [
    "import pandas as pd\n",
    "import numpy as np\n",
    "from sklearn.feature_extraction.text import TfidfVectorizer\n",
    "from sklearn.naive_bayes import MultinomialNB\n",
    "import pickle\n",
    "from sklearn.naive_bayes import MultinomialNB\n"
   ]
  },
  {
   "cell_type": "code",
   "execution_count": null,
   "id": "d0400599",
   "metadata": {},
   "outputs": [],
   "source": [
    "filename = \"model.pkl\""
   ]
  },
  {
   "cell_type": "code",
   "execution_count": null,
   "id": "9ffdeb8c",
   "metadata": {},
   "outputs": [],
   "source": [
    "with open(\"vectorizer.pkl\",'rb') as v:\n",
    "    X_val_tfidf = pickle.load(v)"
   ]
  },
  {
   "cell_type": "code",
   "execution_count": null,
   "id": "0924a016",
   "metadata": {},
   "outputs": [],
   "source": [
    "with open(filename, 'rb') as f:\n",
    "    model2 = pickle.load(f)"
   ]
  },
  {
   "cell_type": "code",
   "execution_count": null,
   "id": "da6152b7",
   "metadata": {},
   "outputs": [],
   "source": [
    "\n",
    "print(\"getting data from stdin\")\n",
    "data = input()\n",
    "print(data)\n",
    "df = pd.DataFrame()\n",
    "df[\"text\"] = [data]\n",
    "\n",
    "\n",
    "a = model2.predict(X_val_tfidf.transform(df[\"text\"]))\n",
    "a"
   ]
  },
  {
   "cell_type": "markdown",
   "id": "fc69bad5",
   "metadata": {},
   "source": [
    "model2.predict(df)"
   ]
  },
  {
   "cell_type": "code",
   "execution_count": null,
   "id": "ca598683",
   "metadata": {},
   "outputs": [],
   "source": []
  },
  {
   "cell_type": "code",
   "execution_count": null,
   "id": "69fe48b6",
   "metadata": {},
   "outputs": [],
   "source": []
  }
 ],
 "metadata": {
  "kernelspec": {
   "display_name": "Python 3 (ipykernel)",
   "language": "python",
   "name": "python3"
  },
  "language_info": {
   "codemirror_mode": {
    "name": "ipython",
    "version": 3
   },
   "file_extension": ".py",
   "mimetype": "text/x-python",
   "name": "python",
   "nbconvert_exporter": "python",
   "pygments_lexer": "ipython3",
   "version": "3.9.13"
  }
 },
 "nbformat": 4,
 "nbformat_minor": 5
}
